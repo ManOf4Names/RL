{
 "cells": [
  {
   "cell_type": "code",
<<<<<<< Updated upstream
   "execution_count": null,
=======
   "execution_count": 367,
>>>>>>> Stashed changes
   "metadata": {},
   "outputs": [],
   "source": [
    "from policy import *\n",
    "\n",
    "newGame = [1, 3, 5, 7]\n",
    "state = [1, 3, 5, 7]\n",
    "\n",
    "win = (0, 0, 0, 0)\n",
    "\n",
    "# Reward values for win and loss conditions\n",
    "win_reward = 100\n",
    "lose_reward = -50\n",
    "\n",
    "# episode length\n",
    "maxrun = 100"
   ]
  },
  {
   "cell_type": "code",
<<<<<<< Updated upstream
   "execution_count": null,
   "metadata": {},
   "outputs": [],
   "source": [
    "policy = Policy_Template.copy()\n",
    "value = Value_Template.copy()\n",
    "q = Q_Template.copy()"
   ]
  },
  {
   "cell_type": "code",
   "execution_count": null,
=======
   "execution_count": 368,
>>>>>>> Stashed changes
   "metadata": {},
   "outputs": [],
   "source": [
    "def Initialize():\n",
    "    policy = Policy_Template.copy()\n",
    "    value = Value_Template.copy()\n",
    "    q = Q_Template.copy()\n",
    "    return\n",
    "\n",
    "\n",
    "def New_Game():\n",
    "    state = newGame.copy()\n",
    "    return\n"
   ]
  },
  {
   "cell_type": "code",
<<<<<<< Updated upstream
   "execution_count": null,
=======
   "execution_count": 369,
>>>>>>> Stashed changes
   "metadata": {},
   "outputs": [],
   "source": [
    "\"\"\"\n",
    "A function for setting the policy for a given state\n",
    "r1: Number of sticks in row 1\n",
    "r2: Number of sticks in row 2\n",
    "r3: Number of sticks in row 3\n",
    "r4: Number of sticks in row 4\n",
    "count: Total number of sticks left\n",
    "\"\"\"\n",
    "def setPolicy(r1, r2, r3, r4, count):\n",
    "    policy = [0, 0, 0, 0, 0, 0, 0, 0, 0, 0, 0, 0, 0, 0, 0, 0]\n",
    "    for i in range(r1):\n",
    "        policy[0 + i] = 1.0/count\n",
    "    for i in range(r2):\n",
    "        policy[1 + i] = 1.0/count\n",
    "    for i in range(r3):\n",
    "        policy[4 + i] = 1.0/count\n",
    "    for i in range(r4):\n",
    "        policy[9 + i] = 1.0/count\n",
    "    return policy\n",
    "\n",
    "\"\"\"\n",
    "Generates a new policy for NIM\n",
    "\"\"\"\n",
    "def newPolicy():\n",
    "    for r1 in range(2):\n",
    "        for r2 in range(4):\n",
    "            for r3 in range(6):\n",
    "                for r4 in range(8):\n",
    "                    print((r1, r2, r3, r4), end='')\n",
    "                    print(\" : \", end='')\n",
    "                    print(setPolicy(r1, r2, r3, r4, r1 + r2 + r3 + r4), end='')\n",
    "                    print(\",\")"
   ]
<<<<<<< Updated upstream
=======
  },
  {
   "cell_type": "code",
   "execution_count": 370,
   "metadata": {},
   "outputs": [],
   "source": [
    "\"\"\"\n",
    "Observes the current state space, and makes a random legal action\n",
    "\"\"\"\n",
    "def genRandomAction():\n",
    "    while True: # it randomly chooses actions until it finds one that is legal\n",
    "        action = random.randint(0, 15)\n",
    "        if Policy_Template[tuple(state)][action] != 0:\n",
    "            break\n",
    "    #print(Policy_Template[tuple(state)]) # here in case we need more debugging\n",
    "    genAction(Actions[action])\n",
    "\n",
    "\"\"\"\n",
    "Determines which action to take based upon the PDF in Actions\n",
    "\"\"\"\n",
    "def genNonrandomAction():\n",
    "    actionChance = random.uniform(0, 1)\n",
    "    action = 0\n",
    "    for x in Policy_Template[tuple(state)]:\n",
    "        sum += x\n",
    "        if sum > actionChance: \n",
    "            break\n",
    "        else:\n",
    "            action += 1\n",
    "    genAction(Actions[action])\n",
    "    \n",
    "    \n",
    "\n",
    "    \n",
    "\n",
    "\"\"\"\n",
    "Takes in a row (1, 2, 3 or 4) and removes the specified number of sticks.\n",
    "If it needs to remove more sticks than what the row contains, it terminates the program\n",
    "\"\"\"\n",
    "def genAction(actionTuple):\n",
    "    row, nSticks = actionTuple\n",
    "    if state[row - 1] < nSticks: # simple error check\n",
    "        print(\"Attempting to remove more sticks than possible, this shouldn't be possible!\")\n",
    "        quit()\n",
    "    state[row - 1] -= nSticks # removes specified stick #\n",
    "    updateInfo()\n",
    "\n",
    "\"\"\"\n",
    "Updates various information when the state space changes. \n",
    "Currently only updates Visits, should probably update values or Q or smthn idk\n",
    "\"\"\"\n",
    "def updateInfo():\n",
    "    if tuple(state) == win:\n",
    "        return\n",
    "    visits[tuple(state)]# += 1\n",
    "    # value?\n",
    "\n",
    "\n",
    "\"\"\"\n",
    "Plays the game by taking random legal moves\n",
    "\"\"\"\n",
    "def genEpisodeRandomly():\n",
    "    New_Game()\n",
    "    print(state)\n",
    "    while (tuple(state) != win):\n",
    "        genRandomAction()\n",
    "        print(\"action taken\")\n",
    "        print(state)\n",
    "\n",
    "\n",
    "\n",
    "\n",
    "\n"
   ]
  },
  {
   "cell_type": "code",
   "execution_count": 372,
   "metadata": {},
   "outputs": [
    {
     "name": "stdout",
     "output_type": "stream",
     "text": [
      "[1, 3, 5, 7]\n",
      "action taken\n",
      "[1, 3, 2, 7]\n",
      "action taken\n",
      "[1, 3, 2, 4]\n",
      "action taken\n",
      "[1, 3, 1, 4]\n",
      "action taken\n",
      "[1, 1, 1, 4]\n",
      "action taken\n",
      "[1, 0, 1, 4]\n",
      "action taken\n",
      "[1, 0, 1, 0]\n",
      "action taken\n",
      "[0, 0, 1, 0]\n",
      "action taken\n",
      "[0, 0, 0, 0]\n"
     ]
    }
   ],
   "source": [
    "def main():\n",
    "    Initialize()\n",
    "    genEpisodeRandomly()\n",
    "\n",
    "if __name__ == \"__main__\":\n",
    "    main()"
   ]
>>>>>>> Stashed changes
  }
 ],
 "metadata": {
  "interpreter": {
   "hash": "f3d45ff1cb055de7f48204b82c6f0cd15a6d052971e23d4e794df9cb46eb817a"
  },
  "kernelspec": {
   "display_name": "Python 3.9.12 64-bit (windows store)",
   "language": "python",
   "name": "python3"
  },
  "language_info": {
   "codemirror_mode": {
    "name": "ipython",
    "version": 3
   },
   "file_extension": ".py",
   "mimetype": "text/x-python",
   "name": "python",
   "nbconvert_exporter": "python",
   "pygments_lexer": "ipython3",
   "version": "3.9.12"
  },
  "orig_nbformat": 4
 },
 "nbformat": 4,
 "nbformat_minor": 2
}
