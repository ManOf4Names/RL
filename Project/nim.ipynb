{
 "cells": [
  {
   "cell_type": "code",
   "execution_count": 5,
   "metadata": {},
   "outputs": [
    {
     "name": "stdout",
     "output_type": "stream",
     "text": [
      "[0.0625, 0.0625, 0.0625, 0.0625, 0.0625, 0.0625, 0.0625, 0.0625, 0.0625, 0.0625, 0.0625, 0.0625, 0.0625, 0.0625, 0.0625, 0.0625]\n"
     ]
    }
   ],
   "source": [
    "from policy import *\n",
    "\n",
    "newGame = [1, 3, 5, 7]\n",
    "state = [1, 3, 5, 7]\n",
    "\n",
    "print(Policy[(1, 3, 5, 7)])\n"
   ]
  },
  {
   "cell_type": "code",
   "execution_count": null,
   "metadata": {},
   "outputs": [],
   "source": [
    "def setPolicy(r1, r2, r3, r4, count):\n",
    "    policy = [0, 0, 0, 0, 0, 0, 0, 0, 0, 0, 0, 0, 0, 0, 0, 0]\n",
    "    for i in range(r1):\n",
    "        policy[0 + i] = 1.0/count\n",
    "    for i in range(r2):\n",
    "        policy[1 + i] = 1.0/count\n",
    "    for i in range(r3):\n",
    "        policy[4 + i] = 1.0/count\n",
    "    for i in range(r4):\n",
    "        policy[9 + i] = 1.0/count\n",
    "    return policy\n",
    "\n",
    "def newPolicy():\n",
    "    for r1 in range(2):\n",
    "        for r2 in range(4):\n",
    "            for r3 in range(6):\n",
    "                for r4 in range(8):\n",
    "                    print((r1, r2, r3, r4), end='')\n",
    "                    print(\" : \", end='')\n",
    "                    print(setPolicy(r1, r2, r3, r4, r1 + r2 + r3 + r4), end='')\n",
    "                    print(\",\")"
   ]
  }
 ],
 "metadata": {
  "interpreter": {
   "hash": "f3d45ff1cb055de7f48204b82c6f0cd15a6d052971e23d4e794df9cb46eb817a"
  },
  "kernelspec": {
   "display_name": "Python 3.9.12 64-bit (windows store)",
   "language": "python",
   "name": "python3"
  },
  "language_info": {
   "codemirror_mode": {
    "name": "ipython",
    "version": 3
   },
   "file_extension": ".py",
   "mimetype": "text/x-python",
   "name": "python",
   "nbconvert_exporter": "python",
   "pygments_lexer": "ipython3",
   "version": "3.9.12"
  },
  "orig_nbformat": 4
 },
 "nbformat": 4,
 "nbformat_minor": 2
}
