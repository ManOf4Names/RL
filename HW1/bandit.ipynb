{
 "cells": [
  {
   "cell_type": "code",
   "execution_count": null,
   "metadata": {},
   "outputs": [],
   "source": [
    "import random\n",
    "import math as m\n",
    "import matplotlib.pyplot as plt"
   ]
  },
  {
   "cell_type": "code",
   "execution_count": null,
   "metadata": {},
   "outputs": [],
   "source": [
    "\"\"\"\n",
    "Helper function that adds history information to the appropriate list.\n",
    "\"\"\"\n",
    "def addHistory(history, choice, reward):\n",
    "    # For each action, add an entry into the history list\n",
    "    for i in range(len(history)):\n",
    "        # If this action was chosen, add the updated reward\n",
    "        if (i == choice):\n",
    "            history[i].append(reward)\n",
    "        # Otherwise, add a 0 if the list is empty or the previous value if not\n",
    "        else:\n",
    "            if (len(history[i]) == 0):\n",
    "                history[i].append(0)\n",
    "            else:\n",
    "                history[i].append(history[i][-1])"
   ]
  },
  {
   "cell_type": "code",
   "execution_count": null,
   "metadata": {},
   "outputs": [],
   "source": [
    "\"\"\"\n",
    "Main logic for the epsilon greedy version of the bandit problem.\n",
    "Taken in an array of arrays (actions) and the epsilon probability.\n",
    "Each element in actions has the structure [action, mean_reward, variance]\n",
    "\"\"\"\n",
    "def banditEpsilon(actions, epsilon, title):\n",
    "    steps = 1000        # Number of steps to run the algorithm\n",
    "    q = []              # Expected reward of each action\n",
    "    timesChosen = []    # List of the number of times an action was choesn\n",
    "    history = []        # List of lists to represent choice history\n",
    "    # Create an array for each action that tracks expected reward at each step.\n",
    "    for i in range(len(actions)):\n",
    "        history.append([])\n",
    "\n",
    "    # Run the algorithm for a predefined number of steps.\n",
    "    for i in range (steps):\n",
    "        # Initialize the expected values of q by taking each action once.\n",
    "        if i < len(actions):\n",
    "            # Take a normal random sample using the mean and variance given.\n",
    "            reward = random.normalvariate(actions[i][1], m.sqrt(actions[i][2]))\n",
    "            timesChosen.append(1)\n",
    "            q.append(reward)\n",
    "            addHistory(history, i, reward)\n",
    "        # Select a random choice using epsilon to decide actions\n",
    "        else:\n",
    "            # Decide the best choice for any given step\n",
    "            for i in range(len(q)):\n",
    "                if q[i] == max(q):\n",
    "                    bestChoice = i\n",
    "                    break\n",
    "            # Select a value between 0 and 1 and determine action\n",
    "            p = random.uniform(0,1)\n",
    "            if (p < 1 - epsilon):\n",
    "                choice = bestChoice\n",
    "            else:\n",
    "                choice = random.randint(0, len(actions) - 1)\n",
    "                while (choice == bestChoice):\n",
    "                    choice = random.randint(0, len(actions) - 1)\n",
    "            reward = random.normalvariate(actions[choice][1], m.sqrt(actions[choice][2]))\n",
    "            timesChosen[choice] += 1\n",
    "            q[choice] = q[choice] + ((reward - q[choice]) / timesChosen[choice])\n",
    "            addHistory(history, choice, q[choice])\n",
    "    \n",
    "    # Generating the plot from the history list for each action\n",
    "    plt.plot(range(1, 1001), history[0], label = \"Action A: Mean = \" + str(actions[0][1]) + \", Variance = \" + str(actions[0][2]))\n",
    "    plt.plot(range(1, 1001), history[1], label = \"Action B: Mean = \" + str(actions[1][1]) + \", Variance = \" + str(actions[1][2]))\n",
    "    plt.plot(range(1, 1001), history[2], label = \"Action C: Mean = \" + str(actions[2][1]) + \", Variance = \" + str(actions[2][2]))\n",
    "    plt.title(title)\n",
    "    plt.legend()\n",
    "    plt.show()"
   ]
  },
  {
   "cell_type": "code",
   "execution_count": null,
   "metadata": {},
   "outputs": [],
   "source": [
    "# Epsilon and action values for part a\n",
    "e = 0.2\n",
    "a = [[\"A\", 5, 3], [\"B\", 10, 6], [\"C\", 15, 15]]\n",
    "banditEpsilon(a, e, \"Part a: epsilon = 0.2\")"
   ]
  },
  {
   "cell_type": "code",
   "execution_count": null,
   "metadata": {},
   "outputs": [],
   "source": [
    "# Epsilon and action values for part b\n",
    "e = 0.1\n",
    "a = [[\"A\", 5, 3], [\"B\", 10, 6], [\"C\", 15, 15]]\n",
    "banditEpsilon(a, e, \"Part b: epsilon = 0.1\")\n"
   ]
  },
  {
   "cell_type": "code",
   "execution_count": null,
   "metadata": {},
   "outputs": [],
   "source": [
    "# Epsilon and action values for part c\n",
    "e = 0\n",
    "a = [[\"A\", 5, 3], [\"B\", 10, 6], [\"C\", 15, 15]]\n",
    "banditEpsilon(a, e, \"Part c: epsilon = 0\")\n"
   ]
  },
  {
   "cell_type": "code",
   "execution_count": null,
   "metadata": {},
   "outputs": [],
   "source": [
    "# Epsilon and action values for part d\n",
    "e = 0.2\n",
    "a = [[\"A\", 5, 5], [\"B\", 10, 10], [\"C\", 15, 15]]\n",
    "banditEpsilon(a, e, \"Part d: epsilon = 0.2\")\n"
   ]
  },
  {
   "cell_type": "code",
   "execution_count": null,
   "metadata": {},
   "outputs": [],
   "source": [
    "# Epsilon and action values for part e\n",
    "e = 0.1\n",
    "a = [[\"A\", 5, 5], [\"B\", 10, 10], [\"C\", 15, 15]]\n",
    "banditEpsilon(a, e, \"Part e: epsilon = 0.1\")\n"
   ]
  },
  {
   "cell_type": "code",
   "execution_count": null,
   "metadata": {},
   "outputs": [],
   "source": [
    "# Epsilon and action values for part f\n",
    "e = 0\n",
    "a = [[\"A\", 5, 5], [\"B\", 10, 10], [\"C\", 15, 15]]\n",
    "banditEpsilon(a, e, \"Part f: epsilon = 0\")\n"
   ]
  },
  {
   "cell_type": "code",
   "execution_count": null,
   "metadata": {},
   "outputs": [],
   "source": [
    "# Epsilon and action values for part g\n",
    "e = 0.2\n",
    "a = [[\"A\", 5, 1], [\"B\", 10, 1], [\"C\", 15, 1]]\n",
    "banditEpsilon(a, e, \"Part g: epsilon = 0.2\")\n"
   ]
  },
  {
   "cell_type": "code",
   "execution_count": null,
   "metadata": {},
   "outputs": [],
   "source": [
    "# Epsilon and action values for part h\n",
    "e = 0.1\n",
    "a = [[\"A\", 5, 1], [\"B\", 10, 1], [\"C\", 15, 1]]\n",
    "banditEpsilon(a, e, \"Part h: epsilon = 0.1\")\n"
   ]
  },
  {
   "cell_type": "code",
   "execution_count": null,
   "metadata": {},
   "outputs": [],
   "source": [
    "# Epsilon and action values for part i\n",
    "e = 0\n",
    "a = [[\"A\", 5, 1], [\"B\", 10, 1], [\"C\", 15, 1]]\n",
    "banditEpsilon(a, e, \"Part i: epsilon = 0\")\n"
   ]
  },
  {
   "cell_type": "code",
   "execution_count": null,
   "metadata": {},
   "outputs": [],
   "source": [
    "# Epsilon and action values for part j\n",
    "e = 0.1\n",
    "a = [[\"A\", 10, 8], [\"B\", 10, 5], [\"C\", 10, 12]]\n",
    "banditEpsilon(a, e, \"Part j: epsilon = 0.1\")\n"
   ]
  }
 ],
 "metadata": {
  "interpreter": {
   "hash": "f3d45ff1cb055de7f48204b82c6f0cd15a6d052971e23d4e794df9cb46eb817a"
  },
  "kernelspec": {
   "display_name": "Python 3.9.9 64-bit (windows store)",
   "language": "python",
   "name": "python3"
  },
  "language_info": {
   "codemirror_mode": {
    "name": "ipython",
    "version": 3
   },
   "file_extension": ".py",
   "mimetype": "text/x-python",
   "name": "python",
   "nbconvert_exporter": "python",
   "pygments_lexer": "ipython3",
   "version": "3.9.10"
  },
  "orig_nbformat": 4
 },
 "nbformat": 4,
 "nbformat_minor": 2
}
